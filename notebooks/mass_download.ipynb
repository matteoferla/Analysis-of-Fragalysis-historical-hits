{
 "cells": [
  {
   "cell_type": "code",
   "execution_count": null,
   "id": "026bfb69-bf46-4b6c-85e0-3c1fc9011a2b",
   "metadata": {},
   "outputs": [],
   "source": [
    "from fragalysis_api import QuickDownloader\n",
    "import pandas as pd\n",
    "from typing import List\n",
    "print(f'Default settings are: {QuickDownloader.api_data}')"
   ]
  },
  {
   "cell_type": "code",
   "execution_count": null,
   "id": "099f4a6a-5afc-4d7f-bf14-540cfa61cc9d",
   "metadata": {},
   "outputs": [],
   "source": [
    "url = 'https://github.com/matteoferla/munged-Fragalysis-targets/blob/main/targets.csv'\n",
    "\n",
    "import os, re, requests\n",
    "\n",
    "match: re.Match = re.search(r'github.com\\/(?P<user>[^/]+)\\/(?P<repo_name>[^/]+)\\/blob/\\w+\\/(?P<filepath>.*)', url)\n",
    "user = match.group('user')\n",
    "repo_name = match.group('repo_name')\n",
    "filepath = match.group('filepath')\n",
    "\n",
    "from github import Github\n",
    "repo = Github().get_user(user).get_repo(repo_name)\n",
    "spreadsheet_url = repo.get_contents(filepath).download_url\n",
    "response: requests.Response = requests.get(spreadsheet_url)\n",
    "response.raise_for_status()\n",
    "sheet_raw = response.text\n",
    "\n",
    "from io import StringIO\n",
    "import pandas as pd\n",
    "\n",
    "\n",
    "projects = pd.read_csv(StringIO(sheet_raw), index_col=0)"
   ]
  },
  {
   "cell_type": "code",
   "execution_count": null,
   "id": "e443ea74-9936-4967-acce-cce2b4bb997f",
   "metadata": {},
   "outputs": [],
   "source": [
    "import requests\n",
    "\n",
    "response: requests.Response = requests.get('https://fragalysis.diamond.ac.uk/api/targets/')\n",
    "response.raise_for_status()\n",
    "projects = pd.DataFrame(response.json()['results'])"
   ]
  },
  {
   "cell_type": "code",
   "execution_count": null,
   "id": "94301ce2-7450-492e-ab8e-6692f87487be",
   "metadata": {},
   "outputs": [],
   "source": [
    "os.path.split(archive_url)[1]"
   ]
  },
  {
   "cell_type": "code",
   "execution_count": null,
   "id": "942038cc-877f-41f7-be08-7832c127e95a",
   "metadata": {},
   "outputs": [],
   "source": [
    "import os, zipfile, io\n",
    "\n",
    "def from_download(cls, target_name, fh):\n",
    "    self = cls.__new__(QuickDownloader)\n",
    "    self.target_name = target_name\n",
    "    self.file_url: str = ''\n",
    "    self.zf = zipfile.ZipFile(fh, \"r\")\n",
    "    return self\n",
    "\n",
    "status = []\n",
    "for archive_url, target_name in zip(projects.zip_archive, projects.title):\n",
    "    response: requests.Response = requests.get(archive_url)\n",
    "    # store\n",
    "    filepath = os.path.join(, os.path.split(archive_url)[1])\n",
    "    with open(filepath, 'wb') as fh:\n",
    "        fh.write(response.content)\n",
    "    zf = zipfile.ZipFile(io.BytesIO(response.content), \"r\")\n",
    "    # check\n",
    "    try:\n",
    "        quick = from_download(QuickDownloader, target_name, io.BytesIO(response.content) )\n",
    "        hits: pd.DataFrame = quick.to_pandas(star_dummy=True)\n",
    "        block: str = quick.reference_pdbblock\n",
    "    except Exception as error:\n",
    "        print(target_name, error.__class__.__name__, str(error))"
   ]
  },
  {
   "cell_type": "code",
   "execution_count": null,
   "id": "d0ea63f2-476e-4bf4-9da1-de2f461a098f",
   "metadata": {},
   "outputs": [],
   "source": [
    "filepaths = [os.path.join('fragalysis-downloads', fn) for fn in os.listdir('fragalysis-downloads') if '.zip' in fn]\n",
    "\n",
    "statuses = []\n",
    "for filepath in filepaths:\n",
    "    target_name = os.path.splitext( os.path.split(filepath)[1] )[0]\n",
    "    status = dict(name=target_name, filepath=filepath)\n",
    "    with open(filepath, 'rb') as fh:\n",
    "        quick = from_download(QuickDownloader, target_name, fh )\n",
    "        for item in ('metadata', 'reference', 'combined'):\n",
    "            for fileinfo in quick.zf.infolist():\n",
    "                if item in fileinfo.filename:\n",
    "                    status[item] = True\n",
    "                    break\n",
    "            else:\n",
    "                status[item] = False\n",
    "        statuses.append(status)\n",
    "        \n",
    "status = pd.DataFrame(statuses)"
   ]
  },
  {
   "cell_type": "code",
   "execution_count": null,
   "id": "af9b45b6-b764-4bee-aa92-6a3c3125fbe8",
   "metadata": {},
   "outputs": [],
   "source": [
    "status"
   ]
  },
  {
   "cell_type": "code",
   "execution_count": null,
   "id": "4386da42-89eb-4df6-8d43-a96ae89f1769",
   "metadata": {},
   "outputs": [],
   "source": []
  }
 ],
 "metadata": {
  "kernelspec": {
   "display_name": "Python [conda env:py310]",
   "language": "python",
   "name": "conda-env-py310-py"
  },
  "language_info": {
   "codemirror_mode": {
    "name": "ipython",
    "version": 3
   },
   "file_extension": ".py",
   "mimetype": "text/x-python",
   "name": "python",
   "nbconvert_exporter": "python",
   "pygments_lexer": "ipython3",
   "version": "3.10.10"
  }
 },
 "nbformat": 4,
 "nbformat_minor": 5
}
